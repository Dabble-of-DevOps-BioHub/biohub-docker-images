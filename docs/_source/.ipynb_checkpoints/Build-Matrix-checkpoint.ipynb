{
 "cells": [
  {
   "cell_type": "code",
   "execution_count": 4,
   "id": "6c772d87",
   "metadata": {},
   "outputs": [],
   "source": [
    "import numpy as np\n",
    "import itertools"
   ]
  },
  {
   "cell_type": "code",
   "execution_count": 11,
   "id": "1360e0c2",
   "metadata": {},
   "outputs": [],
   "source": [
    "build_keys = {\n",
    "    'conda': ['pangeo', 'jupyterlab'],\n",
    "    # this is a placeholder. At somepoint I will want to add in pip packages\n",
    "    'pip': [],\n",
    "    \n",
    "}\n",
    "\n",
    "build_matrix = {\n",
    "    'pangeo': [\"2020.12.22\", \"2020.11.06\", '2021.04.05'],\n",
    "    'jupyterlab': ['2.2.9', '3.0.12'],\n",
    "    'rstudio': [\"1.2.5042\"],\n",
    "}\n",
    "\n",
    "software = {\n",
    "    'CellProfiler': ['4.0.7']\n",
    "}"
   ]
  },
  {
   "cell_type": "code",
   "execution_count": 14,
   "id": "d7c4e29e",
   "metadata": {},
   "outputs": [
    {
     "name": "stdout",
     "output_type": "stream",
     "text": [
      "[{'pangeo': '2020.12.22', 'jupyterlab': '2.2.9', 'rstudio': '1.2.5042', 'CellProfiler': '4.0.7'}, {'pangeo': '2020.12.22', 'jupyterlab': '3.0.12', 'rstudio': '1.2.5042', 'CellProfiler': '4.0.7'}, {'pangeo': '2020.11.06', 'jupyterlab': '2.2.9', 'rstudio': '1.2.5042', 'CellProfiler': '4.0.7'}, {'pangeo': '2020.11.06', 'jupyterlab': '3.0.12', 'rstudio': '1.2.5042', 'CellProfiler': '4.0.7'}, {'pangeo': '2021.04.05', 'jupyterlab': '2.2.9', 'rstudio': '1.2.5042', 'CellProfiler': '4.0.7'}, {'pangeo': '2021.04.05', 'jupyterlab': '3.0.12', 'rstudio': '1.2.5042', 'CellProfiler': '4.0.7'}]\n"
     ]
    }
   ],
   "source": [
    "for key in software.keys():\n",
    "    build_matrix[key] = software[key]\n",
    "    keys, values = zip(*build_matrix.items())\n",
    "    permutations_dicts = [dict(zip(keys, v)) for v in itertools.product(*values)]\n",
    "    print(permutations_dicts)"
   ]
  },
  {
   "cell_type": "code",
   "execution_count": null,
   "id": "74ec8b9b",
   "metadata": {},
   "outputs": [],
   "source": []
  }
 ],
 "metadata": {
  "kernelspec": {
   "display_name": "Python [conda env:notebook] *",
   "language": "python",
   "name": "conda-env-notebook-py"
  },
  "language_info": {
   "codemirror_mode": {
    "name": "ipython",
    "version": 3
   },
   "file_extension": ".py",
   "mimetype": "text/x-python",
   "name": "python",
   "nbconvert_exporter": "python",
   "pygments_lexer": "ipython3",
   "version": "3.8.8"
  }
 },
 "nbformat": 4,
 "nbformat_minor": 5
}
